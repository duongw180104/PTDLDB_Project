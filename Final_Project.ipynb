{
 "cells": [
  {
   "cell_type": "markdown",
   "id": "74bbd211-b450-4907-a0bb-812a0dc2e881",
   "metadata": {},
   "source": [
    "## 1. Introduction"
   ]
  },
  {
   "cell_type": "markdown",
   "id": "92404883-84a5-4c2d-8bfd-7b068ba9c109",
   "metadata": {},
   "source": [
    "## 2. Import Libraries And Dataset"
   ]
  },
  {
   "cell_type": "code",
   "execution_count": 1,
   "id": "ca24daab-b687-4daf-8461-840cae186238",
   "metadata": {},
   "outputs": [],
   "source": [
    "import numpy as np\n",
    "import pandas as pd\n",
    "import tensorflow as tf\n",
    "from tensorflow.keras import Sequential\n",
    "from tensorflow.keras.layers import Conv1D, MaxPooling1D, Flatten, Dense, Input, LSTM, RepeatVector, TimeDistributed, ConvLSTM2D\n",
    "from sklearn.metrics import mean_squared_error\n",
    "from sklearn.model_selection import train_test_split\n",
    "import time\n",
    "from tensorflow.keras.utils import plot_model\n",
    "import graphviz\n",
    "from math import sqrt \n",
    "import matplotlib.pyplot as plt"
   ]
  },
  {
   "cell_type": "code",
   "execution_count": 2,
   "id": "0c35e28a-c2ad-44c7-9414-20f7e0466025",
   "metadata": {},
   "outputs": [
    {
     "data": {
      "text/html": [
       "<div>\n",
       "<style scoped>\n",
       "    .dataframe tbody tr th:only-of-type {\n",
       "        vertical-align: middle;\n",
       "    }\n",
       "\n",
       "    .dataframe tbody tr th {\n",
       "        vertical-align: top;\n",
       "    }\n",
       "\n",
       "    .dataframe thead th {\n",
       "        text-align: right;\n",
       "    }\n",
       "</style>\n",
       "<table border=\"1\" class=\"dataframe\">\n",
       "  <thead>\n",
       "    <tr style=\"text-align: right;\">\n",
       "      <th></th>\n",
       "      <th>Date</th>\n",
       "      <th>Open</th>\n",
       "      <th>High</th>\n",
       "      <th>Low</th>\n",
       "      <th>Close</th>\n",
       "      <th>Volume</th>\n",
       "    </tr>\n",
       "  </thead>\n",
       "  <tbody>\n",
       "    <tr>\n",
       "      <th>0</th>\n",
       "      <td>2008-12-29</td>\n",
       "      <td>2857.149902</td>\n",
       "      <td>2931.800049</td>\n",
       "      <td>2812.899902</td>\n",
       "      <td>2922.199951</td>\n",
       "      <td>0.0</td>\n",
       "    </tr>\n",
       "    <tr>\n",
       "      <th>1</th>\n",
       "      <td>2008-12-30</td>\n",
       "      <td>2922.550049</td>\n",
       "      <td>2999.149902</td>\n",
       "      <td>2899.750000</td>\n",
       "      <td>2979.500000</td>\n",
       "      <td>0.0</td>\n",
       "    </tr>\n",
       "    <tr>\n",
       "      <th>2</th>\n",
       "      <td>2008-12-31</td>\n",
       "      <td>2979.800049</td>\n",
       "      <td>3002.649902</td>\n",
       "      <td>2937.350098</td>\n",
       "      <td>2959.149902</td>\n",
       "      <td>0.0</td>\n",
       "    </tr>\n",
       "    <tr>\n",
       "      <th>3</th>\n",
       "      <td>2009-01-01</td>\n",
       "      <td>NaN</td>\n",
       "      <td>NaN</td>\n",
       "      <td>NaN</td>\n",
       "      <td>NaN</td>\n",
       "      <td>NaN</td>\n",
       "    </tr>\n",
       "    <tr>\n",
       "      <th>4</th>\n",
       "      <td>2009-01-02</td>\n",
       "      <td>3034.600098</td>\n",
       "      <td>3079.850098</td>\n",
       "      <td>3021.800049</td>\n",
       "      <td>3046.750000</td>\n",
       "      <td>0.0</td>\n",
       "    </tr>\n",
       "  </tbody>\n",
       "</table>\n",
       "</div>"
      ],
      "text/plain": [
       "         Date         Open         High          Low        Close  Volume\n",
       "0  2008-12-29  2857.149902  2931.800049  2812.899902  2922.199951     0.0\n",
       "1  2008-12-30  2922.550049  2999.149902  2899.750000  2979.500000     0.0\n",
       "2  2008-12-31  2979.800049  3002.649902  2937.350098  2959.149902     0.0\n",
       "3  2009-01-01          NaN          NaN          NaN          NaN     NaN\n",
       "4  2009-01-02  3034.600098  3079.850098  3021.800049  3046.750000     0.0"
      ]
     },
     "execution_count": 2,
     "metadata": {},
     "output_type": "execute_result"
    }
   ],
   "source": [
    "#Load dataset \n",
    "file_path = \"E:\\\\school subjects\\\\Predictive Analytics\\\\project\\\\data\\\\all_data.csv\"\n",
    "data = pd.read_csv(file_path)\n",
    "\n",
    "# Display the first few rows of the data\n",
    "data.head()"
   ]
  },
  {
   "cell_type": "code",
   "execution_count": 3,
   "id": "9a1975c9-6d82-4675-94b3-68c016a29c51",
   "metadata": {},
   "outputs": [
    {
     "name": "stderr",
     "output_type": "stream",
     "text": [
      "C:\\Users\\nqduo\\AppData\\Local\\Temp\\ipykernel_18368\\2973235747.py:2: FutureWarning: DataFrame.fillna with 'method' is deprecated and will raise in a future version. Use obj.ffill() or obj.bfill() instead.\n",
      "  data = data.fillna(method='ffill')\n"
     ]
    },
    {
     "data": {
      "text/html": [
       "<div>\n",
       "<style scoped>\n",
       "    .dataframe tbody tr th:only-of-type {\n",
       "        vertical-align: middle;\n",
       "    }\n",
       "\n",
       "    .dataframe tbody tr th {\n",
       "        vertical-align: top;\n",
       "    }\n",
       "\n",
       "    .dataframe thead th {\n",
       "        text-align: right;\n",
       "    }\n",
       "</style>\n",
       "<table border=\"1\" class=\"dataframe\">\n",
       "  <thead>\n",
       "    <tr style=\"text-align: right;\">\n",
       "      <th></th>\n",
       "      <th>Date</th>\n",
       "      <th>Open</th>\n",
       "      <th>High</th>\n",
       "      <th>Low</th>\n",
       "      <th>Close</th>\n",
       "      <th>Volume</th>\n",
       "    </tr>\n",
       "  </thead>\n",
       "  <tbody>\n",
       "    <tr>\n",
       "      <th>0</th>\n",
       "      <td>2008-12-29</td>\n",
       "      <td>2857.149902</td>\n",
       "      <td>2931.800049</td>\n",
       "      <td>2812.899902</td>\n",
       "      <td>2922.199951</td>\n",
       "      <td>0.0</td>\n",
       "    </tr>\n",
       "    <tr>\n",
       "      <th>1</th>\n",
       "      <td>2008-12-30</td>\n",
       "      <td>2922.550049</td>\n",
       "      <td>2999.149902</td>\n",
       "      <td>2899.750000</td>\n",
       "      <td>2979.500000</td>\n",
       "      <td>0.0</td>\n",
       "    </tr>\n",
       "    <tr>\n",
       "      <th>2</th>\n",
       "      <td>2008-12-31</td>\n",
       "      <td>2979.800049</td>\n",
       "      <td>3002.649902</td>\n",
       "      <td>2937.350098</td>\n",
       "      <td>2959.149902</td>\n",
       "      <td>0.0</td>\n",
       "    </tr>\n",
       "    <tr>\n",
       "      <th>3</th>\n",
       "      <td>2009-01-01</td>\n",
       "      <td>2979.800049</td>\n",
       "      <td>3002.649902</td>\n",
       "      <td>2937.350098</td>\n",
       "      <td>2959.149902</td>\n",
       "      <td>0.0</td>\n",
       "    </tr>\n",
       "    <tr>\n",
       "      <th>4</th>\n",
       "      <td>2009-01-02</td>\n",
       "      <td>3034.600098</td>\n",
       "      <td>3079.850098</td>\n",
       "      <td>3021.800049</td>\n",
       "      <td>3046.750000</td>\n",
       "      <td>0.0</td>\n",
       "    </tr>\n",
       "  </tbody>\n",
       "</table>\n",
       "</div>"
      ],
      "text/plain": [
       "         Date         Open         High          Low        Close  Volume\n",
       "0  2008-12-29  2857.149902  2931.800049  2812.899902  2922.199951     0.0\n",
       "1  2008-12-30  2922.550049  2999.149902  2899.750000  2979.500000     0.0\n",
       "2  2008-12-31  2979.800049  3002.649902  2937.350098  2959.149902     0.0\n",
       "3  2009-01-01  2979.800049  3002.649902  2937.350098  2959.149902     0.0\n",
       "4  2009-01-02  3034.600098  3079.850098  3021.800049  3046.750000     0.0"
      ]
     },
     "execution_count": 3,
     "metadata": {},
     "output_type": "execute_result"
    }
   ],
   "source": [
    "# Hanlding missing values\n",
    "data = data.fillna(method='ffill')\n",
    "# Display the first few rows of the data after fill missing values\n",
    "data.head()"
   ]
  },
  {
   "cell_type": "markdown",
   "id": "af61a735-19e0-4e73-8e5c-0fa5a7e5667c",
   "metadata": {},
   "source": [
    "## 3. Understanding Data"
   ]
  },
  {
   "cell_type": "code",
   "execution_count": 4,
   "id": "e771462c-bf6d-4542-a6cb-192bebd34c32",
   "metadata": {},
   "outputs": [
    {
     "name": "stdout",
     "output_type": "stream",
     "text": [
      "<class 'pandas.core.frame.DataFrame'>\n",
      "RangeIndex: 2970 entries, 0 to 2969\n",
      "Data columns (total 6 columns):\n",
      " #   Column  Non-Null Count  Dtype  \n",
      "---  ------  --------------  -----  \n",
      " 0   Date    2970 non-null   object \n",
      " 1   Open    2970 non-null   float64\n",
      " 2   High    2970 non-null   float64\n",
      " 3   Low     2970 non-null   float64\n",
      " 4   Close   2970 non-null   float64\n",
      " 5   Volume  2970 non-null   float64\n",
      "dtypes: float64(5), object(1)\n",
      "memory usage: 139.3+ KB\n"
     ]
    }
   ],
   "source": [
    "data.info()"
   ]
  },
  {
   "cell_type": "code",
   "execution_count": 5,
   "id": "dea4554e-1034-473e-9424-ef2ec27b2627",
   "metadata": {},
   "outputs": [],
   "source": [
    "columns= data.columns.tolist()"
   ]
  },
  {
   "cell_type": "code",
   "execution_count": 6,
   "id": "acd3e11e-ff2e-450b-bda6-d659744be793",
   "metadata": {},
   "outputs": [
    {
     "data": {
      "text/html": [
       "<div>\n",
       "<style scoped>\n",
       "    .dataframe tbody tr th:only-of-type {\n",
       "        vertical-align: middle;\n",
       "    }\n",
       "\n",
       "    .dataframe tbody tr th {\n",
       "        vertical-align: top;\n",
       "    }\n",
       "\n",
       "    .dataframe thead th {\n",
       "        text-align: right;\n",
       "    }\n",
       "</style>\n",
       "<table border=\"1\" class=\"dataframe\">\n",
       "  <thead>\n",
       "    <tr style=\"text-align: right;\">\n",
       "      <th></th>\n",
       "      <th>Open</th>\n",
       "      <th>High</th>\n",
       "      <th>Low</th>\n",
       "      <th>Close</th>\n",
       "      <th>Volume</th>\n",
       "    </tr>\n",
       "  </thead>\n",
       "  <tbody>\n",
       "    <tr>\n",
       "      <th>count</th>\n",
       "      <td>2970.000000</td>\n",
       "      <td>2970.000000</td>\n",
       "      <td>2970.000000</td>\n",
       "      <td>2970.000000</td>\n",
       "      <td>2.970000e+03</td>\n",
       "    </tr>\n",
       "    <tr>\n",
       "      <th>mean</th>\n",
       "      <td>7526.867158</td>\n",
       "      <td>7568.397934</td>\n",
       "      <td>7474.216428</td>\n",
       "      <td>7521.708556</td>\n",
       "      <td>1.642498e+05</td>\n",
       "    </tr>\n",
       "    <tr>\n",
       "      <th>std</th>\n",
       "      <td>2420.749863</td>\n",
       "      <td>2421.294534</td>\n",
       "      <td>2411.023680</td>\n",
       "      <td>2415.005484</td>\n",
       "      <td>1.939716e+05</td>\n",
       "    </tr>\n",
       "    <tr>\n",
       "      <th>min</th>\n",
       "      <td>2574.500000</td>\n",
       "      <td>2621.250000</td>\n",
       "      <td>2539.449951</td>\n",
       "      <td>2573.149902</td>\n",
       "      <td>0.000000e+00</td>\n",
       "    </tr>\n",
       "    <tr>\n",
       "      <th>25%</th>\n",
       "      <td>5443.062378</td>\n",
       "      <td>5485.162598</td>\n",
       "      <td>5403.762329</td>\n",
       "      <td>5440.149902</td>\n",
       "      <td>0.000000e+00</td>\n",
       "    </tr>\n",
       "    <tr>\n",
       "      <th>50%</th>\n",
       "      <td>7587.450195</td>\n",
       "      <td>7632.425049</td>\n",
       "      <td>7526.025146</td>\n",
       "      <td>7568.899902</td>\n",
       "      <td>1.470500e+05</td>\n",
       "    </tr>\n",
       "    <tr>\n",
       "      <th>75%</th>\n",
       "      <td>9435.875244</td>\n",
       "      <td>9479.549805</td>\n",
       "      <td>9365.274902</td>\n",
       "      <td>9405.699951</td>\n",
       "      <td>2.173500e+05</td>\n",
       "    </tr>\n",
       "    <tr>\n",
       "      <th>max</th>\n",
       "      <td>12430.500000</td>\n",
       "      <td>12430.500000</td>\n",
       "      <td>12321.400391</td>\n",
       "      <td>12362.299805</td>\n",
       "      <td>1.811000e+06</td>\n",
       "    </tr>\n",
       "  </tbody>\n",
       "</table>\n",
       "</div>"
      ],
      "text/plain": [
       "               Open          High           Low         Close        Volume\n",
       "count   2970.000000   2970.000000   2970.000000   2970.000000  2.970000e+03\n",
       "mean    7526.867158   7568.397934   7474.216428   7521.708556  1.642498e+05\n",
       "std     2420.749863   2421.294534   2411.023680   2415.005484  1.939716e+05\n",
       "min     2574.500000   2621.250000   2539.449951   2573.149902  0.000000e+00\n",
       "25%     5443.062378   5485.162598   5403.762329   5440.149902  0.000000e+00\n",
       "50%     7587.450195   7632.425049   7526.025146   7568.899902  1.470500e+05\n",
       "75%     9435.875244   9479.549805   9365.274902   9405.699951  2.173500e+05\n",
       "max    12430.500000  12430.500000  12321.400391  12362.299805  1.811000e+06"
      ]
     },
     "execution_count": 6,
     "metadata": {},
     "output_type": "execute_result"
    }
   ],
   "source": [
    "data.describe()"
   ]
  },
  {
   "cell_type": "markdown",
   "id": "76fb4454-107a-46a7-bb77-1154814dd9d6",
   "metadata": {},
   "source": [
    "## 4. Preparing the Data"
   ]
  },
  {
   "cell_type": "code",
   "execution_count": 7,
   "id": "eac163cf-3a1f-4fed-b89c-2c4117269320",
   "metadata": {},
   "outputs": [],
   "source": [
    "# Prepare training and testing data based on your date ranges\n",
    "train_data = data[(data['Date'] >= '2008-12-29') & (data['Date'] <= '2018-12-28')]\n",
    "test_data = data[(data['Date'] >= '2018-12-31') & (data['Date'] <= '2020-05-15')]"
   ]
  },
  {
   "cell_type": "code",
   "execution_count": 8,
   "id": "8a8b04ae-0ec2-488d-aee9-fd6c0006a66d",
   "metadata": {},
   "outputs": [],
   "source": [
    "# Define function to create input sequences for model (either one-week or two-week lookback)\n",
    "def create_sequences(data, lookback):\n",
    "    X, y = [], []\n",
    "    for i in range(len(data) - lookback - 5):\n",
    "        X.append(data['Open'].iloc[i:i+lookback].values)\n",
    "        y.append(data['Open'].iloc[i+lookback:i+lookback+5].values)\n",
    "    return np.array(X), np.array(y)"
   ]
  },
  {
   "cell_type": "code",
   "execution_count": 9,
   "id": "a98204de-1e3d-4758-968e-0f1f76450f1c",
   "metadata": {},
   "outputs": [],
   "source": [
    "# Prepare data for Model\n",
    "X_train_1, y_train_1 = create_sequences(train_data, lookback=5)\n",
    "X_test_1, y_test_1 = create_sequences(test_data, lookback=5)\n",
    "\n",
    "X_train_2, y_train_2 = create_sequences(train_data, lookback=10)\n",
    "X_test_2, y_test_2 = create_sequences(test_data, lookback=10)\n",
    "\n",
    "X_train_3, y_train_3 = create_sequences(train_data, lookback=10)\n",
    "X_test_3, y_test_3 = create_sequences(test_data, lookback=10)\n",
    "\n",
    "X_train_4, y_train_4 = create_sequences(train_data, lookback=10)\n",
    "X_test_4, y_test_4 = create_sequences(test_data, lookback=10)\n",
    "\n",
    "X_train_5, y_train_5 = create_sequences(train_data, lookback=10)\n",
    "X_test_5, y_test_5 = create_sequences(test_data, lookback=10)"
   ]
  },
  {
   "cell_type": "code",
   "execution_count": 10,
   "id": "6c1b6b31-6c6a-4f04-b09a-b4ce6b013b73",
   "metadata": {},
   "outputs": [],
   "source": [
    "# Reshape data to fit Conv1D input (samples, time steps, features)\n",
    "X_train_1 = X_train_1.reshape((X_train_1.shape[0], X_train_1.shape[1], 1))\n",
    "X_test_1 = X_test_1.reshape((X_test_1.shape[0], X_test_1.shape[1], 1))\n",
    "\n",
    "X_train_2 = X_train_2.reshape((X_train_2.shape[0], X_train_2.shape[1], 1))\n",
    "X_test_2 = X_test_2.reshape((X_test_2.shape[0], X_test_2.shape[1], 1))\n",
    "\n",
    "X_train_3 = X_train_3.reshape((X_train_3.shape[0], X_train_3.shape[1], 1))\n",
    "X_test_3 = X_test_3.reshape((X_test_3.shape[0], X_test_3.shape[1], 1))\n",
    "\n",
    "X_train_4 = X_train_4.reshape((X_train_4.shape[0], X_train_4.shape[1], 1))\n",
    "X_test_4 = X_test_4.reshape((X_test_4.shape[0], X_test_4.shape[1], 1))\n",
    "\n",
    "X_train_5 = X_train_5.reshape((X_train_5.shape[0], 2, 1, 5, 1))\n",
    "X_test_5 = X_test_5.reshape((X_test_5.shape[0], 2, 1, 5, 1))\n"
   ]
  },
  {
   "cell_type": "markdown",
   "id": "184e132a-cc9a-4349-9dde-4cbd4afd1037",
   "metadata": {},
   "source": [
    "## 5. Modeling"
   ]
  },
  {
   "cell_type": "markdown",
   "id": "e547e06e-5083-4dd3-96c4-571221c1f296",
   "metadata": {},
   "source": [
    "### 5.1 CNN\n"
   ]
  },
  {
   "cell_type": "code",
   "execution_count": 11,
   "id": "14a4dfc8-20b5-4a63-8ab2-299abefdee40",
   "metadata": {},
   "outputs": [],
   "source": [
    "def create_cnn_model(input_shape):\n",
    "    model = Sequential()\n",
    "    model.add(Conv1D(filters=16, kernel_size=3, activation='relu', input_shape=input_shape))\n",
    "    model.add(MaxPooling1D(pool_size=2))\n",
    "    model.add(Flatten())\n",
    "    model.add(Dense(10, activation='relu'))\n",
    "    model.add(Dense(5))  # Predicting 5 days\n",
    "    model.compile(optimizer='adam', loss='mean_squared_error')\n",
    "    return model"
   ]
  },
  {
   "cell_type": "markdown",
   "id": "62facaf4-8cd5-4531-8ac3-3e7df2016465",
   "metadata": {},
   "source": [
    "### 5.2 LSTM#1"
   ]
  },
  {
   "cell_type": "code",
   "execution_count": 12,
   "id": "c6b32bad-d6b7-4ce2-b62a-41de2e69b7ab",
   "metadata": {},
   "outputs": [],
   "source": [
    "def create_lstm_model(input_shape):\n",
    "    model = Sequential()\n",
    "    \n",
    "    # Encoder LSTM\n",
    "    model.add(LSTM(200, activation='relu', input_shape=input_shape))\n",
    "    \n",
    "    # Repeat Vector to repeat the encoded output for each time-step in the output sequence\n",
    "    model.add(RepeatVector(5))\n",
    "    \n",
    "    # Decoder LSTM\n",
    "    model.add(LSTM(200, activation='relu', return_sequences=True))\n",
    "    \n",
    "    # TimeDistributed layer to predict one day at each time-step\n",
    "    model.add(TimeDistributed(Dense(100))),\n",
    "    \n",
    "    model.add(TimeDistributed(Dense(1)))\n",
    "    \n",
    "    # Compile model\n",
    "    model.compile(optimizer='adam', loss='mean_squared_error')\n",
    "    return model\n"
   ]
  },
  {
   "cell_type": "markdown",
   "id": "5c87c07b-f4d1-491a-b5a9-1513203c7022",
   "metadata": {},
   "source": [
    "### 5.3 LSTM#2"
   ]
  },
  {
   "cell_type": "code",
   "execution_count": 13,
   "id": "f00513cf-791b-4a46-95ac-887083eafcbb",
   "metadata": {},
   "outputs": [],
   "source": [
    "# Define CNN-LSTM encoder-decoder model architecture\n",
    "def create_cnn_lstm_model(input_shape):\n",
    "    model = Sequential()\n",
    "    \n",
    "    # CNN Encoder\n",
    "    model.add(Conv1D(filters=64, kernel_size=3, activation='relu', input_shape=input_shape))\n",
    "    model.add(Conv1D(filters=64, kernel_size=3, activation='relu'))\n",
    "    model.add(MaxPooling1D(pool_size=2))\n",
    "    model.add(Flatten())\n",
    "    \n",
    "    # Repeat Vector for output sequence length\n",
    "    model.add(RepeatVector(5))\n",
    "    \n",
    "    # LSTM Decoder\n",
    "    model.add(LSTM(200, activation='relu', return_sequences=True))\n",
    "    model.add(TimeDistributed(Dense(100))),\n",
    "    \n",
    "    model.add(TimeDistributed(Dense(1)))\n",
    "    \n",
    "    # Compile model\n",
    "    model.compile(optimizer='adam', loss='mean_squared_error')\n",
    "    return model"
   ]
  },
  {
   "cell_type": "markdown",
   "id": "b869f6b6-db03-499e-8fec-08c2c1738802",
   "metadata": {},
   "source": [
    "### 5.4 LSTM#3"
   ]
  },
  {
   "cell_type": "code",
   "execution_count": 14,
   "id": "018093eb-4ed2-48cd-9317-fbdf2b81aba5",
   "metadata": {},
   "outputs": [],
   "source": [
    "# Define ConvLSTM model architecture\n",
    "def create_convlstm_model(input_shape):\n",
    "    model = Sequential()\n",
    "    \n",
    "    # ConvLSTM layer\n",
    "    model.add(ConvLSTM2D(filters=64, kernel_size=(1,3), activation='relu', \n",
    "                         input_shape=input_shape, return_sequences=False))\n",
    "    model.add(Flatten())\n",
    "    \n",
    "    # Repeat Vector for output sequence length\n",
    "    model.add(RepeatVector(5))\n",
    "    \n",
    "    # LSTM decoder\n",
    "    model.add(tf.keras.layers.LSTM(200, activation='relu', return_sequences=True))\n",
    "    model.add(TimeDistributed(Dense(100))),\n",
    "    \n",
    "    model.add(TimeDistributed(Dense(1)))\n",
    "    \n",
    "    # Compile model\n",
    "    model.compile(optimizer='adam', loss='mean_squared_error')\n",
    "    return model"
   ]
  },
  {
   "cell_type": "markdown",
   "id": "ab32e632-fea4-433c-97d0-2d4defd4f654",
   "metadata": {},
   "source": [
    "## 6. Evaluation"
   ]
  },
  {
   "cell_type": "code",
   "execution_count": 15,
   "id": "e9c1f125-1520-44ab-bb46-8405c5ae5873",
   "metadata": {},
   "outputs": [],
   "source": [
    "def evaluate_model_1(model, X_train, y_train, X_test, y_test, rounds=10):\n",
    "    results = []\n",
    "\n",
    "    for round_num in range(1, rounds + 1):\n",
    "        start_time = time.time()\n",
    "        \n",
    "        # Train the model \n",
    "        model.fit(X_train, y_train, epochs=20, batch_size=4, verbose=0)\n",
    "        \n",
    "        # Make predictions\n",
    "        predictions = model.predict(X_test)\n",
    "        \n",
    "        # Calculate RMSE for each day and overall\n",
    "        overall_rmse = np.sqrt(mean_squared_error(y_test, predictions))\n",
    "        day_rmse = [np.sqrt(mean_squared_error(y_test[:, i], predictions[:, i])) for i in range(5)]\n",
    "        execution_time = time.time() - start_time\n",
    "        \n",
    "        # Append round results\n",
    "        results.append([round_num, overall_rmse] + day_rmse + [execution_time])\n",
    "    # Convert results to DataFrame\n",
    "    df = pd.DataFrame(results, columns=[\"No.\", \"RMSE\", \"Mon\", \"Tue\", \"Wed\", \"Thu\", \"Fri\", \"Time\"])\n",
    "    \n",
    "    # Calculate summary statistics\n",
    "    summary = {\n",
    "        \"No.\": [\"Mean\", \"Min\", \"Max\", \"SD\", \"RMSE/Mean\"],\n",
    "        \"RMSE\": [\n",
    "            df[\"RMSE\"].mean(), df[\"RMSE\"].min(), df[\"RMSE\"].max(), df[\"RMSE\"].std(),\n",
    "            df[\"RMSE\"].mean() / y_test.mean()  # RMSE / Mean of test 'open' values\n",
    "        ],\n",
    "        \"Mon\": [df[\"Mon\"].mean(), df[\"Mon\"].min(), df[\"Mon\"].max(), df[\"Mon\"].std(), df[\"Mon\"].mean() / y_test[:, 0].mean()],\n",
    "        \"Tue\": [df[\"Tue\"].mean(), df[\"Tue\"].min(), df[\"Tue\"].max(), df[\"Tue\"].std(), df[\"Tue\"].mean() / y_test[:, 1].mean()],\n",
    "        \"Wed\": [df[\"Wed\"].mean(), df[\"Wed\"].min(), df[\"Wed\"].max(), df[\"Wed\"].std(), df[\"Wed\"].mean() / y_test[:, 2].mean()],\n",
    "        \"Thu\": [df[\"Thu\"].mean(), df[\"Thu\"].min(), df[\"Thu\"].max(), df[\"Thu\"].std(), df[\"Thu\"].mean() / y_test[:, 3].mean()],\n",
    "        \"Fri\": [df[\"Fri\"].mean(), df[\"Fri\"].min(), df[\"Fri\"].max(), df[\"Fri\"].std(), df[\"Fri\"].mean() / y_test[:, 4].mean()],\n",
    "        \"Time\": [df[\"Time\"].mean(), df[\"Time\"].min(), df[\"Time\"].max(), df[\"Time\"].std(), np.nan]\n",
    "    }\n",
    "    \n",
    "    # Append summary to DataFrame\n",
    "    summary_df = pd.DataFrame(summary)\n",
    "    results_df = pd.concat([df, summary_df], ignore_index=True)\n",
    "    \n",
    "    return results_df"
   ]
  },
  {
   "cell_type": "code",
   "execution_count": 16,
   "id": "7299eb06-fdd5-43e5-bf72-125fc08d6f78",
   "metadata": {},
   "outputs": [],
   "source": [
    "def evaluate_model_2(model, X_train, y_train, X_test, y_test, rounds=10):\n",
    "    results = []\n",
    "\n",
    "    for round_num in range(1, rounds + 1):\n",
    "        start_time = time.time()\n",
    "        \n",
    "        # Train the model\n",
    "        model.fit(X_train, y_train, epochs=20, batch_size=16, verbose=0)\n",
    "        \n",
    "        # Make predictions\n",
    "        predictions = model.predict(X_test)\n",
    "        \n",
    "        # Reshape predictions and y_test for RMSE calculation per day\n",
    "        predictions = predictions.reshape(predictions.shape[0], predictions.shape[1])\n",
    "        y_test = y_test.reshape(y_test.shape[0], y_test.shape[1])\n",
    "        \n",
    "        # Calculate RMSE for each day and overall\n",
    "        overall_rmse = np.sqrt(mean_squared_error(y_test, predictions))\n",
    "        day_rmse = [np.sqrt(mean_squared_error(y_test[:, i], predictions[:, i])) for i in range(5)]\n",
    "        execution_time = time.time() - start_time\n",
    "        \n",
    "        # Append round results\n",
    "        results.append([round_num, overall_rmse] + day_rmse + [execution_time])\n",
    "\n",
    "    # Convert results to DataFrame\n",
    "    df = pd.DataFrame(results, columns=[\"No.\", \"RMSE\", \"Mon\", \"Tue\", \"Wed\", \"Thu\", \"Fri\", \"Time\"])\n",
    "    \n",
    "    # Calculate summary statistics\n",
    "    summary = {\n",
    "        \"No.\": [\"Mean\", \"Min\", \"Max\", \"SD\", \"RMSE/Mean\"],\n",
    "        \"RMSE\": [\n",
    "            df[\"RMSE\"].mean(), df[\"RMSE\"].min(), df[\"RMSE\"].max(), df[\"RMSE\"].std(),\n",
    "            df[\"RMSE\"].mean() / y_test.mean()  # RMSE / Mean of test 'open' values\n",
    "        ],\n",
    "        \"Mon\": [df[\"Mon\"].mean(), df[\"Mon\"].min(), df[\"Mon\"].max(), df[\"Mon\"].std(), df[\"Mon\"].mean() / y_test[:, 0].mean()],\n",
    "        \"Tue\": [df[\"Tue\"].mean(), df[\"Tue\"].min(), df[\"Tue\"].max(), df[\"Tue\"].std(), df[\"Tue\"].mean() / y_test[:, 1].mean()],\n",
    "        \"Wed\": [df[\"Wed\"].mean(), df[\"Wed\"].min(), df[\"Wed\"].max(), df[\"Wed\"].std(), df[\"Wed\"].mean() / y_test[:, 2].mean()],\n",
    "        \"Thu\": [df[\"Thu\"].mean(), df[\"Thu\"].min(), df[\"Thu\"].max(), df[\"Thu\"].std(), df[\"Thu\"].mean() / y_test[:, 3].mean()],\n",
    "        \"Fri\": [df[\"Fri\"].mean(), df[\"Fri\"].min(), df[\"Fri\"].max(), df[\"Fri\"].std(), df[\"Fri\"].mean() / y_test[:, 4].mean()],\n",
    "        \"Time\": [df[\"Time\"].mean(), df[\"Time\"].min(), df[\"Time\"].max(), df[\"Time\"].std(), np.nan]\n",
    "    }\n",
    "    \n",
    "    # Append summary to DataFrame\n",
    "    summary_df = pd.DataFrame(summary)\n",
    "    results_df = pd.concat([df, summary_df], ignore_index=True)\n",
    "    \n",
    "    return results_df"
   ]
  },
  {
   "cell_type": "markdown",
   "id": "507ccbc2-beb1-43e5-952e-6329368de334",
   "metadata": {},
   "source": [
    "### 6.1 CNN#1"
   ]
  },
  {
   "cell_type": "code",
   "execution_count": 17,
   "id": "62ff9cf7-4f1a-4389-a35e-dd60e0c314d9",
   "metadata": {},
   "outputs": [
    {
     "name": "stderr",
     "output_type": "stream",
     "text": [
      "C:\\Users\\nqduo\\anaconda3\\Lib\\site-packages\\keras\\src\\layers\\convolutional\\base_conv.py:107: UserWarning: Do not pass an `input_shape`/`input_dim` argument to a layer. When using Sequential models, prefer using an `Input(shape)` object as the first layer in the model instead.\n",
      "  super().__init__(activity_regularizer=activity_regularizer, **kwargs)\n"
     ]
    },
    {
     "name": "stdout",
     "output_type": "stream",
     "text": [
      "\u001b[1m11/11\u001b[0m \u001b[32m━━━━━━━━━━━━━━━━━━━━\u001b[0m\u001b[37m\u001b[0m \u001b[1m0s\u001b[0m 7ms/step\n",
      "\u001b[1m11/11\u001b[0m \u001b[32m━━━━━━━━━━━━━━━━━━━━\u001b[0m\u001b[37m\u001b[0m \u001b[1m0s\u001b[0m 950us/step\n",
      "\u001b[1m11/11\u001b[0m \u001b[32m━━━━━━━━━━━━━━━━━━━━\u001b[0m\u001b[37m\u001b[0m \u001b[1m0s\u001b[0m 2ms/step \n",
      "\u001b[1m11/11\u001b[0m \u001b[32m━━━━━━━━━━━━━━━━━━━━\u001b[0m\u001b[37m\u001b[0m \u001b[1m0s\u001b[0m 953us/step\n",
      "\u001b[1m11/11\u001b[0m \u001b[32m━━━━━━━━━━━━━━━━━━━━\u001b[0m\u001b[37m\u001b[0m \u001b[1m0s\u001b[0m 1ms/step \n",
      "\u001b[1m11/11\u001b[0m \u001b[32m━━━━━━━━━━━━━━━━━━━━\u001b[0m\u001b[37m\u001b[0m \u001b[1m0s\u001b[0m 952us/step\n",
      "\u001b[1m11/11\u001b[0m \u001b[32m━━━━━━━━━━━━━━━━━━━━\u001b[0m\u001b[37m\u001b[0m \u001b[1m0s\u001b[0m 1ms/step \n",
      "\u001b[1m11/11\u001b[0m \u001b[32m━━━━━━━━━━━━━━━━━━━━\u001b[0m\u001b[37m\u001b[0m \u001b[1m0s\u001b[0m 951us/step\n",
      "\u001b[1m11/11\u001b[0m \u001b[32m━━━━━━━━━━━━━━━━━━━━\u001b[0m\u001b[37m\u001b[0m \u001b[1m0s\u001b[0m 949us/step\n",
      "\u001b[1m11/11\u001b[0m \u001b[32m━━━━━━━━━━━━━━━━━━━━\u001b[0m\u001b[37m\u001b[0m \u001b[1m0s\u001b[0m 1ms/step \n",
      "          No.        RMSE         Mon         Tue         Wed         Thu  \\\n",
      "0           1  377.247230  289.443554  335.137658  383.069579  410.891894   \n",
      "1           2  371.353015  276.534688  322.893869  373.885688  409.894191   \n",
      "2           3  371.583171  274.847414  320.918230  378.200428  410.289060   \n",
      "3           4  367.166255  268.177738  317.225122  365.363091  409.163104   \n",
      "4           5  361.629936  264.585611  314.211737  360.294558  399.729381   \n",
      "5           6  364.336491  275.428862  315.958158  366.392910  402.004625   \n",
      "6           7  357.769021  258.388048  302.722775  358.699493  397.983048   \n",
      "7           8  404.103029  310.359022  363.775537  437.851683  427.646786   \n",
      "8           9  364.588922  265.354905  310.031032  373.305432  401.642790   \n",
      "9          10  353.019231  262.070161  304.525358  351.521440  391.285960   \n",
      "10       Mean  369.279630  274.519000  320.739948  374.858430  406.053084   \n",
      "11        Min  353.019231  258.388048  302.722775  351.521440  391.285960   \n",
      "12        Max  404.103029  310.359022  363.775537  437.851683  427.646786   \n",
      "13         SD   14.110962   15.457087   17.776628   24.105691    9.950406   \n",
      "14  RMSE/Mean    0.032922    0.024456    0.028584    0.033420    0.036213   \n",
      "\n",
      "           Fri       Time  \n",
      "0   447.110827  12.006898  \n",
      "1   448.307560  11.180451  \n",
      "2   447.736503  14.380707  \n",
      "3   447.883446  14.518302  \n",
      "4   442.211200  13.170054  \n",
      "5   438.364342  11.523395  \n",
      "6   441.057896  11.395422  \n",
      "7   461.784642  11.375551  \n",
      "8   444.318656  11.406465  \n",
      "9   430.144626  11.753166  \n",
      "10  444.891970  12.271041  \n",
      "11  430.144626  11.180451  \n",
      "12  461.784642  14.518302  \n",
      "13    8.173818   1.278520  \n",
      "14    0.039694        NaN  \n"
     ]
    }
   ],
   "source": [
    "cnn_model_1 = create_cnn_model(input_shape=(5, 1))\n",
    "results_df_1 = evaluate_model_1(cnn_model_1, X_train_1, y_train_1, X_test_1, y_test_1)\n",
    "print(results_df_1)"
   ]
  },
  {
   "cell_type": "code",
   "execution_count": 18,
   "id": "45f998ac-d213-481d-95a3-b69abea8c108",
   "metadata": {},
   "outputs": [],
   "source": [
    "results_df_1.to_csv('CNN#1_results.csv', index=False)"
   ]
  },
  {
   "cell_type": "code",
   "execution_count": 21,
   "id": "d1214775-df15-4df7-92c1-e15cdf72ec28",
   "metadata": {},
   "outputs": [
    {
     "data": {
      "image/png": "[encoded data removed]",
      "text/plain": [
       "<Figure size 800x500 with 1 Axes>"
      ]
     },
     "metadata": {},
     "output_type": "display_data"
    }
   ],
   "source": [
    "df_1 = results_df_1.drop('No.',axis=1)\n",
    "df_1 = df_1.drop('Time',axis=1)\n",
    "df_1 = df_1.drop('RMSE',axis=1)\n",
    "df_1.iloc[3]\n",
    "plt.figure(figsize=(8, 5))\n",
    "df_1.iloc[3].plot(kind='line', marker='o', grid=True)\n",
    "plt.xlabel('Day')\n",
    "plt.ylabel('Values')\n",
    "plt.show()"
   ]
  },
  {
   "cell_type": "code",
   "execution_count": null,
   "id": "aca7e26d-b5b7-4e14-93a0-07d5de89169e",
   "metadata": {},
   "outputs": [],
   "source": []
  },
  {
   "cell_type": "markdown",
   "id": "474d1222-004d-4542-b044-6b8d9761130c",
   "metadata": {},
   "source": [
    "### 6.2 CNN#2"
   ]
  },
  {
   "cell_type": "code",
   "execution_count": 17,
   "id": "b21df6cf-77b0-494f-bb59-162609a3f2aa",
   "metadata": {},
   "outputs": [
    {
     "name": "stderr",
     "output_type": "stream",
     "text": [
      "C:\\Users\\nqduo\\anaconda3\\Lib\\site-packages\\keras\\src\\layers\\convolutional\\base_conv.py:107: UserWarning: Do not pass an `input_shape`/`input_dim` argument to a layer. When using Sequential models, prefer using an `Input(shape)` object as the first layer in the model instead.\n",
      "  super().__init__(activity_regularizer=activity_regularizer, **kwargs)\n"
     ]
    },
    {
     "name": "stdout",
     "output_type": "stream",
     "text": [
      "\u001b[1m11/11\u001b[0m \u001b[32m━━━━━━━━━━━━━━━━━━━━\u001b[0m\u001b[37m\u001b[0m \u001b[1m0s\u001b[0m 7ms/step\n",
      "\u001b[1m11/11\u001b[0m \u001b[32m━━━━━━━━━━━━━━━━━━━━\u001b[0m\u001b[37m\u001b[0m \u001b[1m0s\u001b[0m 436us/step\n",
      "\u001b[1m11/11\u001b[0m \u001b[32m━━━━━━━━━━━━━━━━━━━━\u001b[0m\u001b[37m\u001b[0m \u001b[1m0s\u001b[0m 2ms/step \n",
      "\u001b[1m11/11\u001b[0m \u001b[32m━━━━━━━━━━━━━━━━━━━━\u001b[0m\u001b[37m\u001b[0m \u001b[1m0s\u001b[0m 1ms/step \n",
      "\u001b[1m11/11\u001b[0m \u001b[32m━━━━━━━━━━━━━━━━━━━━\u001b[0m\u001b[37m\u001b[0m \u001b[1m0s\u001b[0m 638us/step\n",
      "\u001b[1m11/11\u001b[0m \u001b[32m━━━━━━━━━━━━━━━━━━━━\u001b[0m\u001b[37m\u001b[0m \u001b[1m0s\u001b[0m 2ms/step \n",
      "\u001b[1m11/11\u001b[0m \u001b[32m━━━━━━━━━━━━━━━━━━━━\u001b[0m\u001b[37m\u001b[0m \u001b[1m0s\u001b[0m 2ms/step \n",
      "\u001b[1m11/11\u001b[0m \u001b[32m━━━━━━━━━━━━━━━━━━━━\u001b[0m\u001b[37m\u001b[0m \u001b[1m0s\u001b[0m 1000us/step\n",
      "\u001b[1m11/11\u001b[0m \u001b[32m━━━━━━━━━━━━━━━━━━━━\u001b[0m\u001b[37m\u001b[0m \u001b[1m0s\u001b[0m 2ms/step \n",
      "\u001b[1m11/11\u001b[0m \u001b[32m━━━━━━━━━━━━━━━━━━━━\u001b[0m\u001b[37m\u001b[0m \u001b[1m0s\u001b[0m 2ms/step \n",
      "          No.        RMSE         Mon         Tue         Wed         Thu  \\\n",
      "0           1  410.994567  284.944107  335.595097  450.383686  456.484094   \n",
      "1           2  388.033915  238.588367  339.319667  390.350247  462.406155   \n",
      "2           3  346.901987  204.240659  279.569184  350.000927  419.214856   \n",
      "3           4  357.177919  257.785652  310.873445  360.908977  388.004275   \n",
      "4           5  310.234831  189.652864  254.233862  310.276127  355.598898   \n",
      "5           6  354.088921  288.792537  325.202536  324.536998  388.347951   \n",
      "6           7  311.071057  196.302792  257.830380  307.793804  356.239932   \n",
      "7           8  306.276512  194.260111  251.235320  304.763815  348.415809   \n",
      "8           9  321.354147  211.907501  267.760683  312.318194  369.801959   \n",
      "9          10  307.556334  183.524725  248.475140  309.019704  352.205658   \n",
      "10       Mean  341.369019  224.999932  287.009532  342.035248  389.671959   \n",
      "11        Min  306.276512  183.524725  248.475140  304.763815  348.415809   \n",
      "12        Max  410.994567  288.792537  339.319667  450.383686  462.406155   \n",
      "13         SD   36.712610   39.808959   36.880192   47.542950   42.701452   \n",
      "14  RMSE/Mean    0.030419    0.020034    0.025565    0.030479    0.034736   \n",
      "\n",
      "           Fri       Time  \n",
      "0   489.430550  13.317057  \n",
      "1   463.245703  12.678662  \n",
      "2   428.474063  13.838514  \n",
      "3   440.433854  13.989659  \n",
      "4   397.370526  13.659500  \n",
      "5   426.143879  13.087009  \n",
      "6   396.447734  13.854031  \n",
      "7   392.295517  12.788451  \n",
      "8   406.750199  13.242509  \n",
      "9   397.481157  13.426868  \n",
      "10  423.807318  13.388226  \n",
      "11  392.295517  12.678662  \n",
      "12  489.430550  13.989659  \n",
      "13   32.642731   0.451759  \n",
      "14    0.037795        NaN  \n"
     ]
    }
   ],
   "source": [
    "cnn_model_2 = create_cnn_model(input_shape=(10, 1))\n",
    "results_df_2 = evaluate_model_1(cnn_model_2, X_train_2, y_train_2, X_test_2, y_test_2)\n",
    "print(results_df_2)"
   ]
  },
  {
   "cell_type": "code",
   "execution_count": 23,
   "id": "91850e73-0ad5-48b9-ab02-d91280fdaeab",
   "metadata": {},
   "outputs": [],
   "source": [
    "results_df_2.to_csv('CNN#2_results.csv', index=False)"
   ]
  },
  {
   "cell_type": "code",
   "execution_count": 24,
   "id": "02c71eb9-c753-43bf-968e-7bc6d56c5a46",
   "metadata": {},
   "outputs": [
    {
     "data": {
      "image/png": "[encoded data removed]",
      "text/plain": [
       "<Figure size 800x500 with 1 Axes>"
      ]
     },
     "metadata": {},
     "output_type": "display_data"
    }
   ],
   "source": [
    "df_2 = results_df_2.drop('No.',axis=1)\n",
    "df_2 = df_2.drop('Time',axis=1)\n",
    "df_2 = df_2.drop('RMSE',axis=1)\n",
    "df_2.iloc[5]\n",
    "plt.figure(figsize=(8, 5))\n",
    "df_2.iloc[5].plot(kind='line', marker='o', grid=True)\n",
    "plt.xlabel('Day')\n",
    "plt.ylabel('Values')\n",
    "plt.show()"
   ]
  },
  {
   "cell_type": "code",
   "execution_count": null,
   "id": "f497cddf-90e7-4035-ae23-edc22db74357",
   "metadata": {},
   "outputs": [],
   "source": []
  },
  {
   "cell_type": "markdown",
   "id": "ed6405aa-318d-4704-9adb-1b1528625541",
   "metadata": {},
   "source": [
    "### 6.3 LSTM#1"
   ]
  },
  {
   "cell_type": "code",
   "execution_count": 18,
   "id": "a6833a3d-14cc-404d-8685-95bbfe70fe85",
   "metadata": {},
   "outputs": [
    {
     "name": "stderr",
     "output_type": "stream",
     "text": [
      "C:\\Users\\nqduo\\anaconda3\\Lib\\site-packages\\keras\\src\\layers\\rnn\\rnn.py:204: UserWarning: Do not pass an `input_shape`/`input_dim` argument to a layer. When using Sequential models, prefer using an `Input(shape)` object as the first layer in the model instead.\n",
      "  super().__init__(**kwargs)\n"
     ]
    },
    {
     "name": "stdout",
     "output_type": "stream",
     "text": [
      "\u001b[1m11/11\u001b[0m \u001b[32m━━━━━━━━━━━━━━━━━━━━\u001b[0m\u001b[37m\u001b[0m \u001b[1m1s\u001b[0m 39ms/step\n",
      "\u001b[1m11/11\u001b[0m \u001b[32m━━━━━━━━━━━━━━━━━━━━\u001b[0m\u001b[37m\u001b[0m \u001b[1m0s\u001b[0m 4ms/step \n",
      "\u001b[1m11/11\u001b[0m \u001b[32m━━━━━━━━━━━━━━━━━━━━\u001b[0m\u001b[37m\u001b[0m \u001b[1m0s\u001b[0m 5ms/step \n",
      "\u001b[1m11/11\u001b[0m \u001b[32m━━━━━━━━━━━━━━━━━━━━\u001b[0m\u001b[37m\u001b[0m \u001b[1m0s\u001b[0m 3ms/step \n",
      "\u001b[1m11/11\u001b[0m \u001b[32m━━━━━━━━━━━━━━━━━━━━\u001b[0m\u001b[37m\u001b[0m \u001b[1m0s\u001b[0m 5ms/step \n",
      "\u001b[1m11/11\u001b[0m \u001b[32m━━━━━━━━━━━━━━━━━━━━\u001b[0m\u001b[37m\u001b[0m \u001b[1m0s\u001b[0m 5ms/step \n",
      "\u001b[1m11/11\u001b[0m \u001b[32m━━━━━━━━━━━━━━━━━━━━\u001b[0m\u001b[37m\u001b[0m \u001b[1m0s\u001b[0m 3ms/step \n",
      "\u001b[1m11/11\u001b[0m \u001b[32m━━━━━━━━━━━━━━━━━━━━\u001b[0m\u001b[37m\u001b[0m \u001b[1m0s\u001b[0m 4ms/step \n",
      "\u001b[1m11/11\u001b[0m \u001b[32m━━━━━━━━━━━━━━━━━━━━\u001b[0m\u001b[37m\u001b[0m \u001b[1m0s\u001b[0m 4ms/step \n",
      "\u001b[1m11/11\u001b[0m \u001b[32m━━━━━━━━━━━━━━━━━━━━\u001b[0m\u001b[37m\u001b[0m \u001b[1m0s\u001b[0m 6ms/step\n",
      "          No.        RMSE         Mon         Tue         Wed         Thu  \\\n",
      "0           1  463.497327  370.877162  414.379193  459.498165  503.909817   \n",
      "1           2  417.220933  331.974520  371.630867  414.728067  448.404499   \n",
      "2           3  329.272946  231.543984  286.954448  328.083615  365.773831   \n",
      "3           4  343.295624  206.912527  285.310648  342.087482  386.895833   \n",
      "4           5  283.050070  171.748150  232.158088  278.762297  320.468315   \n",
      "5           6  276.399485  159.437923  220.110246  272.241428  314.483367   \n",
      "6           7  273.647505  157.201961  217.403714  268.447838  310.519988   \n",
      "7           8  301.365746  179.997526  249.764623  298.723566  342.913000   \n",
      "8           9  303.772427  175.922043  251.342823  302.642040  343.640094   \n",
      "9          10  303.456438  177.515947  254.031202  302.460798  341.046520   \n",
      "10       Mean  329.497850  216.313174  278.308585  326.767530  367.805526   \n",
      "11        Min  273.647505  157.201961  217.403714  268.447838  310.519988   \n",
      "12        Max  463.497327  370.877162  414.379193  459.498165  503.909817   \n",
      "13         SD   63.306213   75.098741   65.579179   63.446404   62.958970   \n",
      "14  RMSE/Mean    0.029361    0.019260    0.024790    0.029118    0.032786   \n",
      "\n",
      "           Fri       Time  \n",
      "0   547.562974  29.663007  \n",
      "1   498.982951  22.917773  \n",
      "2   405.855318  23.341124  \n",
      "3   445.345076  22.811990  \n",
      "4   369.842598  23.029051  \n",
      "5   367.558460  25.239905  \n",
      "6   365.993235  24.411378  \n",
      "7   390.512475  24.041308  \n",
      "8   396.970954  25.603397  \n",
      "9   395.714571  23.431001  \n",
      "10  418.433861  24.448993  \n",
      "11  365.993235  22.811990  \n",
      "12  547.562974  29.663007  \n",
      "13   61.010728   2.071395  \n",
      "14    0.037316        NaN  \n"
     ]
    }
   ],
   "source": [
    "lstm_model_1 = create_lstm_model(input_shape=(10, 1))\n",
    "results_df_3 = evaluate_model_2(lstm_model_1, X_train_3, y_train_3, X_test_3, y_test_3)\n",
    "print(results_df_3)"
   ]
  },
  {
   "cell_type": "code",
   "execution_count": 26,
   "id": "7869b03c-efed-4a20-b8f3-6d9ca913e343",
   "metadata": {},
   "outputs": [],
   "source": [
    "results_df_3.to_csv('LSTM#1_results.csv', index=False)"
   ]
  },
  {
   "cell_type": "code",
   "execution_count": 27,
   "id": "b42a7b30-a05c-435d-a75d-7150cf12a3e9",
   "metadata": {},
   "outputs": [
    {
     "data": {
      "image/png": "[encoded data removed]",
      "text/plain": [
       "<Figure size 800x500 with 1 Axes>"
      ]
     },
     "metadata": {},
     "output_type": "display_data"
    }
   ],
   "source": [
    "df_3 = results_df_3.drop('No.',axis=1)\n",
    "df_3 = df_3.drop('Time',axis=1)\n",
    "df_3 = df_3.drop('RMSE',axis=1)\n",
    "df_3.iloc[4]\n",
    "plt.figure(figsize=(8, 5))\n",
    "df_3.iloc[4].plot(kind='line', marker='o', grid=True)\n",
    "plt.xlabel('Day')\n",
    "plt.ylabel('Values')\n",
    "plt.show()"
   ]
  },
  {
   "cell_type": "code",
   "execution_count": null,
   "id": "6b899aba-1eb5-4b59-b3dd-ca1a3403a6bc",
   "metadata": {},
   "outputs": [],
   "source": []
  },
  {
   "cell_type": "markdown",
   "id": "97b9fb0a-1902-4baf-9e44-3cdbcc43097b",
   "metadata": {},
   "source": [
    "### 6.4 LSTM#2"
   ]
  },
  {
   "cell_type": "code",
   "execution_count": 19,
   "id": "9cd58728-ad7e-453e-a4cb-330ce4217d61",
   "metadata": {},
   "outputs": [
    {
     "name": "stderr",
     "output_type": "stream",
     "text": [
      "C:\\Users\\nqduo\\anaconda3\\Lib\\site-packages\\keras\\src\\layers\\convolutional\\base_conv.py:107: UserWarning: Do not pass an `input_shape`/`input_dim` argument to a layer. When using Sequential models, prefer using an `Input(shape)` object as the first layer in the model instead.\n",
      "  super().__init__(activity_regularizer=activity_regularizer, **kwargs)\n"
     ]
    },
    {
     "name": "stdout",
     "output_type": "stream",
     "text": [
      "\u001b[1m11/11\u001b[0m \u001b[32m━━━━━━━━━━━━━━━━━━━━\u001b[0m\u001b[37m\u001b[0m \u001b[1m1s\u001b[0m 31ms/step\n",
      "\u001b[1m11/11\u001b[0m \u001b[32m━━━━━━━━━━━━━━━━━━━━\u001b[0m\u001b[37m\u001b[0m \u001b[1m0s\u001b[0m 3ms/step \n",
      "\u001b[1m11/11\u001b[0m \u001b[32m━━━━━━━━━━━━━━━━━━━━\u001b[0m\u001b[37m\u001b[0m \u001b[1m0s\u001b[0m 3ms/step \n",
      "\u001b[1m11/11\u001b[0m \u001b[32m━━━━━━━━━━━━━━━━━━━━\u001b[0m\u001b[37m\u001b[0m \u001b[1m0s\u001b[0m 3ms/step \n",
      "\u001b[1m11/11\u001b[0m \u001b[32m━━━━━━━━━━━━━━━━━━━━\u001b[0m\u001b[37m\u001b[0m \u001b[1m0s\u001b[0m 4ms/step \n",
      "\u001b[1m11/11\u001b[0m \u001b[32m━━━━━━━━━━━━━━━━━━━━\u001b[0m\u001b[37m\u001b[0m \u001b[1m0s\u001b[0m 3ms/step \n",
      "\u001b[1m11/11\u001b[0m \u001b[32m━━━━━━━━━━━━━━━━━━━━\u001b[0m\u001b[37m\u001b[0m \u001b[1m0s\u001b[0m 4ms/step \n",
      "\u001b[1m11/11\u001b[0m \u001b[32m━━━━━━━━━━━━━━━━━━━━\u001b[0m\u001b[37m\u001b[0m \u001b[1m0s\u001b[0m 3ms/step \n",
      "\u001b[1m11/11\u001b[0m \u001b[32m━━━━━━━━━━━━━━━━━━━━\u001b[0m\u001b[37m\u001b[0m \u001b[1m0s\u001b[0m 3ms/step \n",
      "\u001b[1m11/11\u001b[0m \u001b[32m━━━━━━━━━━━━━━━━━━━━\u001b[0m\u001b[37m\u001b[0m \u001b[1m0s\u001b[0m 2ms/step \n",
      "          No.        RMSE         Mon         Tue         Wed         Thu  \\\n",
      "0           1  421.096600  326.037127  378.829885  416.078213  458.136008   \n",
      "1           2  393.404788  296.832766  346.120015  392.907669  434.608190   \n",
      "2           3  355.237128  252.221370  301.679931  350.992074  398.556012   \n",
      "3           4  321.845692  209.084286  266.581031  315.796911  366.835376   \n",
      "4           5  320.615815  219.274824  269.323416  312.740514  362.190978   \n",
      "5           6  334.690632  219.775107  277.917545  330.914494  380.620860   \n",
      "6           7  321.050081  204.760273  265.950976  315.143821  366.264640   \n",
      "7           8  325.563234  208.887343  271.802300  319.414424  370.923672   \n",
      "8           9  318.361333  214.926728  270.135593  309.689171  359.630663   \n",
      "9          10  306.811895  191.436671  252.389737  299.387822  351.054839   \n",
      "10       Mean  341.867720  234.323649  290.073043  336.306511  384.882124   \n",
      "11        Min  306.811895  191.436671  252.389737  299.387822  351.054839   \n",
      "12        Max  421.096600  326.037127  378.829885  416.078213  458.136008   \n",
      "13         SD   37.262929   44.033782   40.848181   38.862478   35.289108   \n",
      "14  RMSE/Mean    0.030463    0.020864    0.025838    0.029968    0.034309   \n",
      "\n",
      "           Fri       Time  \n",
      "0   503.775509  17.627609  \n",
      "1   471.876217  13.701266  \n",
      "2   440.792869  13.816654  \n",
      "3   410.908358  14.443845  \n",
      "4   405.422027  13.864724  \n",
      "5   424.468131  15.516898  \n",
      "6   411.392352  13.971071  \n",
      "7   415.736383  14.020090  \n",
      "8   402.940888  14.458577  \n",
      "9   396.795350  13.996923  \n",
      "10  428.410808  14.541766  \n",
      "11  396.795350  13.701266  \n",
      "12  503.775509  17.627609  \n",
      "13   34.433967   1.205318  \n",
      "14    0.038206        NaN  \n"
     ]
    }
   ],
   "source": [
    "cnn_lstm_model_2 = create_cnn_lstm_model(input_shape=(10, 1))\n",
    "results_df_4 = evaluate_model_2(cnn_lstm_model_2, X_train_4, y_train_4, X_test_4, y_test_4)\n",
    "print(results_df_4)"
   ]
  },
  {
   "cell_type": "code",
   "execution_count": 29,
   "id": "931901f8-65b5-4ef7-b94b-7909320a5dbc",
   "metadata": {},
   "outputs": [],
   "source": [
    "results_df_4.to_csv('LSTM#2_results.csv', index=False)"
   ]
  },
  {
   "cell_type": "code",
   "execution_count": 30,
   "id": "3896b365-bb5c-489c-a527-28cc99fd312e",
   "metadata": {},
   "outputs": [
    {
     "data": {
      "image/png": "[encoded data removed]",
      "text/plain": [
       "<Figure size 800x500 with 1 Axes>"
      ]
     },
     "metadata": {},
     "output_type": "display_data"
    }
   ],
   "source": [
    "df_4 = results_df_4.drop('No.',axis=1)\n",
    "df_4 = df_4.drop('Time',axis=1)\n",
    "df_4 = df_4.drop('RMSE',axis=1)\n",
    "df_4.iloc[2]\n",
    "plt.figure(figsize=(8, 5))\n",
    "df_4.iloc[2].plot(kind='line', marker='o', grid=True)\n",
    "plt.xlabel('Day')\n",
    "plt.ylabel('Values')\n",
    "plt.show()"
   ]
  },
  {
   "cell_type": "code",
   "execution_count": null,
   "id": "6fca10b7-e4cf-45c9-8a12-43e47530a057",
   "metadata": {},
   "outputs": [],
   "source": []
  },
  {
   "cell_type": "markdown",
   "id": "d6c35b4d-a710-4bcb-8af9-d62158331132",
   "metadata": {},
   "source": [
    "### 6.5 LSTM#3"
   ]
  },
  {
   "cell_type": "code",
   "execution_count": 23,
   "id": "282c07d7-2fab-48a5-bf85-35f57945f2f4",
   "metadata": {},
   "outputs": [
    {
     "name": "stderr",
     "output_type": "stream",
     "text": [
      "C:\\Users\\nqduo\\anaconda3\\Lib\\site-packages\\keras\\src\\layers\\rnn\\rnn.py:204: UserWarning: Do not pass an `input_shape`/`input_dim` argument to a layer. When using Sequential models, prefer using an `Input(shape)` object as the first layer in the model instead.\n",
      "  super().__init__(**kwargs)\n"
     ]
    },
    {
     "name": "stdout",
     "output_type": "stream",
     "text": [
      "\u001b[1m11/11\u001b[0m \u001b[32m━━━━━━━━━━━━━━━━━━━━\u001b[0m\u001b[37m\u001b[0m \u001b[1m3s\u001b[0m 148ms/step\n",
      "\u001b[1m11/11\u001b[0m \u001b[32m━━━━━━━━━━━━━━━━━━━━\u001b[0m\u001b[37m\u001b[0m \u001b[1m0s\u001b[0m 8ms/step\n",
      "\u001b[1m11/11\u001b[0m \u001b[32m━━━━━━━━━━━━━━━━━━━━\u001b[0m\u001b[37m\u001b[0m \u001b[1m0s\u001b[0m 5ms/step \n",
      "\u001b[1m11/11\u001b[0m \u001b[32m━━━━━━━━━━━━━━━━━━━━\u001b[0m\u001b[37m\u001b[0m \u001b[1m0s\u001b[0m 5ms/step \n",
      "\u001b[1m11/11\u001b[0m \u001b[32m━━━━━━━━━━━━━━━━━━━━\u001b[0m\u001b[37m\u001b[0m \u001b[1m0s\u001b[0m 9ms/step \n",
      "\u001b[1m11/11\u001b[0m \u001b[32m━━━━━━━━━━━━━━━━━━━━\u001b[0m\u001b[37m\u001b[0m \u001b[1m0s\u001b[0m 3ms/step \n",
      "\u001b[1m11/11\u001b[0m \u001b[32m━━━━━━━━━━━━━━━━━━━━\u001b[0m\u001b[37m\u001b[0m \u001b[1m0s\u001b[0m 3ms/step \n",
      "\u001b[1m11/11\u001b[0m \u001b[32m━━━━━━━━━━━━━━━━━━━━\u001b[0m\u001b[37m\u001b[0m \u001b[1m0s\u001b[0m 4ms/step \n",
      "\u001b[1m11/11\u001b[0m \u001b[32m━━━━━━━━━━━━━━━━━━━━\u001b[0m\u001b[37m\u001b[0m \u001b[1m0s\u001b[0m 4ms/step \n",
      "\u001b[1m11/11\u001b[0m \u001b[32m━━━━━━━━━━━━━━━━━━━━\u001b[0m\u001b[37m\u001b[0m \u001b[1m0s\u001b[0m 3ms/step \n",
      "          No.        RMSE         Mon         Tue         Wed         Thu  \\\n",
      "0           1  373.792295  259.851076  327.535221  373.242573  421.380895   \n",
      "1           2  309.820892  198.405151  256.085621  304.727465  352.565301   \n",
      "2           3  305.705431  201.678337  250.248028  296.438748  345.789489   \n",
      "3           4  299.139024  175.712407  239.883004  292.078145  342.849630   \n",
      "4           5  316.127466  202.704932  270.742576  314.071214  355.679996   \n",
      "5           6  299.632889  198.786166  255.211200  293.389559  337.513907   \n",
      "6           7  308.456461  196.990468  257.368864  303.284304  347.514372   \n",
      "7           8  290.223258  196.544134  239.441602  283.052640  324.885395   \n",
      "8           9  308.560609  195.581004  255.831089  302.787388  349.355292   \n",
      "9          10  282.352669  179.402026  230.404500  275.096038  319.092057   \n",
      "10       Mean  309.381099  200.565570  258.275170  303.816807  349.662633   \n",
      "11        Min  282.352669  175.712407  230.404500  275.096038  319.092057   \n",
      "12        Max  373.792295  259.851076  327.535221  373.242573  421.380895   \n",
      "13         SD   24.736465   22.724912   26.889800   26.841624   27.789555   \n",
      "14  RMSE/Mean    0.027569    0.017858    0.023005    0.027073    0.031169   \n",
      "\n",
      "           Fri          Time  \n",
      "0   454.895172     62.187401  \n",
      "1   397.290017     46.984116  \n",
      "2   395.644442  12006.343926  \n",
      "3   395.153846     19.804212  \n",
      "4   400.178779     19.607527  \n",
      "5   379.812551     17.867939  \n",
      "6   397.410817     17.002131  \n",
      "7   373.519080     21.871841  \n",
      "8   398.268061     23.668827  \n",
      "9   368.573273     21.429387  \n",
      "10  396.074604   1225.676731  \n",
      "11  368.573273     17.002131  \n",
      "12  454.895172  12006.343926  \n",
      "13   23.606354   3787.969517  \n",
      "14    0.035322           NaN  \n"
     ]
    }
   ],
   "source": [
    "convlstm_model = create_convlstm_model(input_shape=(2, 1, 5, 1))\n",
    "results_df_5 = evaluate_model_2(convlstm_model, X_train_5, y_train_5, X_test_5, y_test_5)\n",
    "print(results_df_5)"
   ]
  },
  {
   "cell_type": "code",
   "execution_count": 32,
   "id": "4fcff945-7b1d-4f83-9324-4cf317fd5e83",
   "metadata": {},
   "outputs": [],
   "source": [
    "results_df_5.to_csv('LSTM#3_results.csv', index=False)"
   ]
  },
  {
   "cell_type": "code",
   "execution_count": 33,
   "id": "781c1606-ca9c-4eae-96d0-e23f2a35ccbc",
   "metadata": {},
   "outputs": [
    {
     "data": {
      "image/png": "[encoded data removed]",
      "text/plain": [
       "<Figure size 800x500 with 1 Axes>"
      ]
     },
     "metadata": {},
     "output_type": "display_data"
    }
   ],
   "source": [
    "df_5 = results_df_5.drop('No.',axis=1)\n",
    "df_5 = df_5.drop('Time',axis=1)\n",
    "df_5 = df_5.drop('RMSE',axis=1)\n",
    "df_5.iloc[7]\n",
    "plt.figure(figsize=(8, 5))\n",
    "df_5.iloc[7].plot(kind='line', marker='o', grid=True)\n",
    "plt.xlabel('Day')\n",
    "plt.ylabel('Values')\n",
    "plt.show()"
   ]
  },
  {
   "cell_type": "code",
   "execution_count": null,
   "id": "d7d2c692-747e-4560-8ec7-115ce0990dcf",
   "metadata": {},
   "outputs": [],
   "source": []
  }
 ],
 "metadata": {
  "kernelspec": {
   "display_name": "Python 3 (ipykernel)",
   "language": "python",
   "name": "python3"
  },
  "language_info": {
   "codemirror_mode": {
    "name": "ipython",
    "version": 3
   },
   "file_extension": ".py",
   "mimetype": "text/x-python",
   "name": "python",
   "nbconvert_exporter": "python",
   "pygments_lexer": "ipython3",
   "version": "3.12.4"
  }
 },
 "nbformat": 4,
 "nbformat_minor": 5
}
